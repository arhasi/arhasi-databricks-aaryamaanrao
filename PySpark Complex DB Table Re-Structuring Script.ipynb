{
 "cells": [
  {
   "cell_type": "code",
   "execution_count": 0,
   "metadata": {
    "application/vnd.databricks.v1+cell": {
     "cellMetadata": {
      "byteLimit": 2048000,
      "rowLimit": 10000
     },
     "inputWidgets": {},
     "nuid": "375953e3-4ccf-4c15-979a-578bcb46ab88",
     "showTitle": false,
     "title": ""
    }
   },
   "outputs": [],
   "source": [
    "from pyspark.sql import SparkSession\n",
    "from pyspark.sql.types import StructType\n",
    "from pyspark.sql.functions import col\n",
    "\n",
    "# Initialize Spark Session\n",
    "spark = SparkSession.builder.appName(\"substruct_tables\").getOrCreate()\n",
    "\n",
    "# Connect to the database\n",
    "spark.sql(\"USE arhasi.rapid\")\n",
    "\n",
    "# Load data from the 'metrics' table\n",
    "df = spark.table(\"metrics\")\n",
    "\n",
    "# Function to extract sub-structs and fields from a struct field\n",
    "def extract_substructs(schema, parent_name=\"\"):\n",
    "    substructs = {}\n",
    "    for field in schema.fields:\n",
    "        full_name = f\"{parent_name}.{field.name}\" if parent_name else field.name\n",
    "        if isinstance(field.dataType, StructType):\n",
    "            substructs[full_name] = [f.name for f in field.dataType.fields]\n",
    "        elif parent_name:\n",
    "            substructs.setdefault(parent_name, []).append(field.name)\n",
    "    return substructs\n",
    "\n",
    "# Extract sub-structs from the 'metrics' column\n",
    "metrics_schema = df.schema['metrics'].dataType\n",
    "substructs = extract_substructs(metrics_schema, \"metrics\")\n",
    "\n",
    "# Iteratively create and save tables for each sub-struct\n",
    "for substruct, fields in substructs.items():\n",
    "    select_expr = [col('id')] + [col(f'{substruct}.{field}').alias(field) for field in fields]\n",
    "    substruct_df = df.select(select_expr)\n",
    "    table_name = substruct.replace('.', '_')\n",
    "    substruct_df.write.saveAsTable(table_name)"
   ]
  }
 ],
 "metadata": {
  "application/vnd.databricks.v1+notebook": {
   "dashboards": [],
   "language": "python",
   "notebookMetadata": {
    "pythonIndentUnit": 4
   },
   "notebookName": "Flatten Any Nested Table into Tables",
   "widgets": {}
  }
 },
 "nbformat": 4,
 "nbformat_minor": 0
}
